{
 "cells": [
  {
   "cell_type": "code",
   "execution_count": 25,
   "metadata": {},
   "outputs": [],
   "source": [
    "import pandas as pd\n",
    "import numpy as np \n",
    "import matplotlib.pyplot as plt\n",
    "import seaborn as sns\n",
    "import xgboost as xgb \n",
    "from sklearn.model_selection import KFold, train_test_split\n",
    "from sklearn.metrics import accuracy_score"
   ]
  },
  {
   "cell_type": "code",
   "execution_count": 26,
   "metadata": {},
   "outputs": [
    {
     "name": "stdout",
     "output_type": "stream",
     "text": [
      "   Unnamed: 0   read_date  interval_1  interval_2  interval_3  interval_4  \\\n",
      "0           0  2021-03-01      0.0625      0.0500      0.0687      0.0750   \n",
      "1           1  2021-03-02      0.0625      0.0500      0.0687      0.0625   \n",
      "2           2  2021-03-03      0.0625      0.0687      0.0500      0.0562   \n",
      "3           3  2021-03-04      0.0625      0.0625      0.0687      0.0500   \n",
      "4           4  2021-03-05      0.0625      0.0625      0.0500      0.0625   \n",
      "\n",
      "   interval_5  interval_6  interval_7  interval_8  ...  interval_41  \\\n",
      "0      0.0687      0.0500      0.0625      0.0687  ...       0.0812   \n",
      "1      0.0625      0.0562      0.0562      0.0625  ...       0.1375   \n",
      "2      0.0687      0.0625      0.0625      0.0625  ...       0.1875   \n",
      "3      0.0562      0.0625      0.0625      0.0625  ...       0.1125   \n",
      "4      0.0687      0.0625      0.0687      0.0562  ...       0.0812   \n",
      "\n",
      "   interval_42  interval_43  interval_44  interval_45  interval_46  \\\n",
      "0       0.0687       0.0687       0.0562       0.0562       0.0687   \n",
      "1       0.0750       0.0687       0.0625       0.0625       0.0562   \n",
      "2       0.1062       0.0750       0.0687       0.0687       0.0625   \n",
      "3       0.0875       0.0687       0.0625       0.0562       0.0625   \n",
      "4       0.0562       0.0687       0.0625       0.0625       0.0625   \n",
      "\n",
      "   interval_47  interval_48  id  label  \n",
      "0       0.0687       0.0625   1      1  \n",
      "1       0.0625       0.0625   1      1  \n",
      "2       0.0562       0.0562   1      1  \n",
      "3       0.0625       0.0687   1      1  \n",
      "4       0.0562       0.0500   1      1  \n",
      "\n",
      "[5 rows x 52 columns]\n",
      "        Unnamed: 0   interval_1   interval_2   interval_3   interval_4  \\\n",
      "count  4048.000000  4048.000000  4048.000000  4048.000000  4048.000000   \n",
      "mean   2023.500000     0.344301     0.320546     0.297221     0.276360   \n",
      "std    1168.701273     0.698534     0.655992     0.607303     0.554286   \n",
      "min       0.000000     0.000000     0.000000     0.000000     0.000000   \n",
      "25%    1011.750000     0.073000     0.072000     0.070000     0.069000   \n",
      "50%    2023.500000     0.137500     0.131200     0.125000     0.125000   \n",
      "75%    3035.250000     0.250000     0.237500     0.225000     0.218700   \n",
      "max    4047.000000     8.325000    12.712500    12.400000    12.387500   \n",
      "\n",
      "        interval_5   interval_6   interval_7   interval_8   interval_9  ...  \\\n",
      "count  4048.000000  4048.000000  4048.000000  4048.000000  4048.000000  ...   \n",
      "mean      0.255266     0.244258     0.250251     0.251163     0.255017  ...   \n",
      "std       0.492384     0.461366     0.598976     0.606699     0.616976  ...   \n",
      "min       0.000000     0.000000     0.000000     0.000000     0.000000  ...   \n",
      "25%       0.066000     0.066000     0.064000     0.066000     0.064000  ...   \n",
      "50%       0.125000     0.118700     0.118700     0.118700     0.118700  ...   \n",
      "75%       0.212500     0.208250     0.200000     0.200000     0.206200  ...   \n",
      "max       9.200000     8.350000    12.100000    12.212500    12.200000  ...   \n",
      "\n",
      "       interval_41  interval_42  interval_43  interval_44  interval_45  \\\n",
      "count  4048.000000  4048.000000  4048.000000  4048.000000  4048.000000   \n",
      "mean      0.407895     0.402141     0.392470     0.367511     0.359634   \n",
      "std       0.587563     0.593329     0.607965     0.577805     0.614594   \n",
      "min       0.000000     0.000000     0.000000     0.000000     0.000000   \n",
      "25%       0.121000     0.118700     0.113000     0.105000     0.088000   \n",
      "50%       0.228500     0.218700     0.206200     0.195000     0.175000   \n",
      "75%       0.450000     0.431200     0.412500     0.395250     0.352750   \n",
      "max       7.550000     8.662500    12.950000     7.275000     7.162500   \n",
      "\n",
      "       interval_46  interval_47  interval_48          id        label  \n",
      "count  4048.000000  4048.000000  4048.000000  4048.00000  4048.000000  \n",
      "mean      0.341184     0.381160     0.365073    44.50000     0.500000  \n",
      "std       0.622205     0.773924     0.745274    25.40491     0.500062  \n",
      "min       0.000000     0.000000     0.000000     1.00000     0.000000  \n",
      "25%       0.081200     0.077000     0.075000    22.75000     0.000000  \n",
      "50%       0.156200     0.150000     0.143700    44.50000     0.500000  \n",
      "75%       0.310250     0.293700     0.266500    66.25000     1.000000  \n",
      "max       7.625000    12.500000    12.225000    88.00000     1.000000  \n",
      "\n",
      "[8 rows x 51 columns]\n"
     ]
    }
   ],
   "source": [
    "df = pd.read_csv(\"../data/EV_data_clean.csv\")\n",
    "print(df.head())\n",
    "print(df.describe())"
   ]
  },
  {
   "cell_type": "code",
   "execution_count": 2,
   "metadata": {},
   "outputs": [
    {
     "ename": "NameError",
     "evalue": "name 'df' is not defined",
     "output_type": "error",
     "traceback": [
      "\u001b[0;31m---------------------------------------------------------------------------\u001b[0m",
      "\u001b[0;31mNameError\u001b[0m                                 Traceback (most recent call last)",
      "Cell \u001b[0;32mIn[2], line 2\u001b[0m\n\u001b[1;32m      1\u001b[0m \u001b[38;5;66;03m#df  = df.drop(\"id\",axis=1)\u001b[39;00m\n\u001b[0;32m----> 2\u001b[0m \u001b[43mdf\u001b[49m\u001b[38;5;241m.\u001b[39mhead()\n",
      "\u001b[0;31mNameError\u001b[0m: name 'df' is not defined"
     ]
    }
   ],
   "source": [
    "#df  = df.drop(\"id\",axis=1)\n",
    "df.head()"
   ]
  },
  {
   "cell_type": "code",
   "execution_count": 28,
   "metadata": {},
   "outputs": [
    {
     "data": {
      "text/plain": [
       "0   2021-03-01\n",
       "1   2021-03-02\n",
       "2   2021-03-03\n",
       "3   2021-03-04\n",
       "4   2021-03-05\n",
       "Name: read_date, dtype: datetime64[ns]"
      ]
     },
     "execution_count": 28,
     "metadata": {},
     "output_type": "execute_result"
    }
   ],
   "source": [
    "df['read_date']= pd.to_datetime(df['read_date'])\n",
    "df['read_date'].head()"
   ]
  },
  {
   "cell_type": "code",
   "execution_count": 1,
   "metadata": {},
   "outputs": [
    {
     "ename": "NameError",
     "evalue": "name 'df' is not defined",
     "output_type": "error",
     "traceback": [
      "\u001b[0;31m---------------------------------------------------------------------------\u001b[0m",
      "\u001b[0;31mNameError\u001b[0m                                 Traceback (most recent call last)",
      "Cell \u001b[0;32mIn[1], line 1\u001b[0m\n\u001b[0;32m----> 1\u001b[0m df[\u001b[38;5;124m'\u001b[39m\u001b[38;5;124mday_of_week_num\u001b[39m\u001b[38;5;124m'\u001b[39m] \u001b[38;5;241m=\u001b[39m \u001b[43mdf\u001b[49m[\u001b[38;5;124m'\u001b[39m\u001b[38;5;124mread_date\u001b[39m\u001b[38;5;124m'\u001b[39m]\u001b[38;5;241m.\u001b[39mdt\u001b[38;5;241m.\u001b[39mday_of_week\n\u001b[1;32m      2\u001b[0m df[\u001b[38;5;124m'\u001b[39m\u001b[38;5;124mday_of_month\u001b[39m\u001b[38;5;124m'\u001b[39m] \u001b[38;5;241m=\u001b[39m df[\u001b[38;5;124m'\u001b[39m\u001b[38;5;124mread_date\u001b[39m\u001b[38;5;124m'\u001b[39m]\u001b[38;5;241m.\u001b[39mdt\u001b[38;5;241m.\u001b[39mday\n\u001b[1;32m      3\u001b[0m df[\u001b[38;5;124m'\u001b[39m\u001b[38;5;124mmonth\u001b[39m\u001b[38;5;124m'\u001b[39m] \u001b[38;5;241m=\u001b[39m df[\u001b[38;5;124m'\u001b[39m\u001b[38;5;124mread_date\u001b[39m\u001b[38;5;124m'\u001b[39m]\u001b[38;5;241m.\u001b[39mdt\u001b[38;5;241m.\u001b[39mmonth\n",
      "\u001b[0;31mNameError\u001b[0m: name 'df' is not defined"
     ]
    }
   ],
   "source": [
    "df['day_of_week_num'] = df['read_date'].dt.day_of_week\n",
    "df['day_of_month'] = df['read_date'].dt.day\n",
    "df['month'] = df['read_date'].dt.month\n",
    "df.head()"
   ]
  },
  {
   "cell_type": "code",
   "execution_count": 30,
   "metadata": {},
   "outputs": [
    {
     "data": {
      "text/plain": [
       "Unnamed: 0           int64\n",
       "interval_1         float64\n",
       "interval_2         float64\n",
       "interval_3         float64\n",
       "interval_4         float64\n",
       "interval_5         float64\n",
       "interval_6         float64\n",
       "interval_7         float64\n",
       "interval_8         float64\n",
       "interval_9         float64\n",
       "interval_10        float64\n",
       "interval_11        float64\n",
       "interval_12        float64\n",
       "interval_13        float64\n",
       "interval_14        float64\n",
       "interval_15        float64\n",
       "interval_16        float64\n",
       "interval_17        float64\n",
       "interval_18        float64\n",
       "interval_19        float64\n",
       "interval_20        float64\n",
       "interval_21        float64\n",
       "interval_22        float64\n",
       "interval_23        float64\n",
       "interval_24        float64\n",
       "interval_25        float64\n",
       "interval_26        float64\n",
       "interval_27        float64\n",
       "interval_28        float64\n",
       "interval_29        float64\n",
       "interval_30        float64\n",
       "interval_31        float64\n",
       "interval_32        float64\n",
       "interval_33        float64\n",
       "interval_34        float64\n",
       "interval_35        float64\n",
       "interval_36        float64\n",
       "interval_37        float64\n",
       "interval_38        float64\n",
       "interval_39        float64\n",
       "interval_40        float64\n",
       "interval_41        float64\n",
       "interval_42        float64\n",
       "interval_43        float64\n",
       "interval_44        float64\n",
       "interval_45        float64\n",
       "interval_46        float64\n",
       "interval_47        float64\n",
       "interval_48        float64\n",
       "id                   int64\n",
       "label                int64\n",
       "day_of_week_num      int32\n",
       "day_of_month         int32\n",
       "month                int32\n",
       "dtype: object"
      ]
     },
     "execution_count": 30,
     "metadata": {},
     "output_type": "execute_result"
    }
   ],
   "source": [
    "df = df.drop(\"read_date\",axis=1)\n",
    "df.dtypes"
   ]
  },
  {
   "cell_type": "code",
   "execution_count": 31,
   "metadata": {},
   "outputs": [
    {
     "ename": "KeyError",
     "evalue": "\"['day_of_week'] not found in axis\"",
     "output_type": "error",
     "traceback": [
      "\u001b[0;31m---------------------------------------------------------------------------\u001b[0m",
      "\u001b[0;31mKeyError\u001b[0m                                  Traceback (most recent call last)",
      "Cell \u001b[0;32mIn[31], line 1\u001b[0m\n\u001b[0;32m----> 1\u001b[0m df \u001b[38;5;241m=\u001b[39m \u001b[43mdf\u001b[49m\u001b[38;5;241;43m.\u001b[39;49m\u001b[43mdrop\u001b[49m\u001b[43m(\u001b[49m\u001b[38;5;124;43m\"\u001b[39;49m\u001b[38;5;124;43mday_of_week\u001b[39;49m\u001b[38;5;124;43m\"\u001b[39;49m\u001b[43m,\u001b[49m\u001b[43maxis\u001b[49m\u001b[38;5;241;43m=\u001b[39;49m\u001b[38;5;241;43m1\u001b[39;49m\u001b[43m)\u001b[49m\n",
      "File \u001b[0;32m~/Desktop/ml projects/current/Transformer/venv/lib/python3.10/site-packages/pandas/core/frame.py:5568\u001b[0m, in \u001b[0;36mDataFrame.drop\u001b[0;34m(self, labels, axis, index, columns, level, inplace, errors)\u001b[0m\n\u001b[1;32m   5420\u001b[0m \u001b[38;5;28;01mdef\u001b[39;00m \u001b[38;5;21mdrop\u001b[39m(\n\u001b[1;32m   5421\u001b[0m     \u001b[38;5;28mself\u001b[39m,\n\u001b[1;32m   5422\u001b[0m     labels: IndexLabel \u001b[38;5;241m|\u001b[39m \u001b[38;5;28;01mNone\u001b[39;00m \u001b[38;5;241m=\u001b[39m \u001b[38;5;28;01mNone\u001b[39;00m,\n\u001b[0;32m   (...)\u001b[0m\n\u001b[1;32m   5429\u001b[0m     errors: IgnoreRaise \u001b[38;5;241m=\u001b[39m \u001b[38;5;124m\"\u001b[39m\u001b[38;5;124mraise\u001b[39m\u001b[38;5;124m\"\u001b[39m,\n\u001b[1;32m   5430\u001b[0m ) \u001b[38;5;241m-\u001b[39m\u001b[38;5;241m>\u001b[39m DataFrame \u001b[38;5;241m|\u001b[39m \u001b[38;5;28;01mNone\u001b[39;00m:\n\u001b[1;32m   5431\u001b[0m \u001b[38;5;250m    \u001b[39m\u001b[38;5;124;03m\"\"\"\u001b[39;00m\n\u001b[1;32m   5432\u001b[0m \u001b[38;5;124;03m    Drop specified labels from rows or columns.\u001b[39;00m\n\u001b[1;32m   5433\u001b[0m \n\u001b[0;32m   (...)\u001b[0m\n\u001b[1;32m   5566\u001b[0m \u001b[38;5;124;03m            weight  1.0     0.8\u001b[39;00m\n\u001b[1;32m   5567\u001b[0m \u001b[38;5;124;03m    \"\"\"\u001b[39;00m\n\u001b[0;32m-> 5568\u001b[0m     \u001b[38;5;28;01mreturn\u001b[39;00m \u001b[38;5;28;43msuper\u001b[39;49m\u001b[43m(\u001b[49m\u001b[43m)\u001b[49m\u001b[38;5;241;43m.\u001b[39;49m\u001b[43mdrop\u001b[49m\u001b[43m(\u001b[49m\n\u001b[1;32m   5569\u001b[0m \u001b[43m        \u001b[49m\u001b[43mlabels\u001b[49m\u001b[38;5;241;43m=\u001b[39;49m\u001b[43mlabels\u001b[49m\u001b[43m,\u001b[49m\n\u001b[1;32m   5570\u001b[0m \u001b[43m        \u001b[49m\u001b[43maxis\u001b[49m\u001b[38;5;241;43m=\u001b[39;49m\u001b[43maxis\u001b[49m\u001b[43m,\u001b[49m\n\u001b[1;32m   5571\u001b[0m \u001b[43m        \u001b[49m\u001b[43mindex\u001b[49m\u001b[38;5;241;43m=\u001b[39;49m\u001b[43mindex\u001b[49m\u001b[43m,\u001b[49m\n\u001b[1;32m   5572\u001b[0m \u001b[43m        \u001b[49m\u001b[43mcolumns\u001b[49m\u001b[38;5;241;43m=\u001b[39;49m\u001b[43mcolumns\u001b[49m\u001b[43m,\u001b[49m\n\u001b[1;32m   5573\u001b[0m \u001b[43m        \u001b[49m\u001b[43mlevel\u001b[49m\u001b[38;5;241;43m=\u001b[39;49m\u001b[43mlevel\u001b[49m\u001b[43m,\u001b[49m\n\u001b[1;32m   5574\u001b[0m \u001b[43m        \u001b[49m\u001b[43minplace\u001b[49m\u001b[38;5;241;43m=\u001b[39;49m\u001b[43minplace\u001b[49m\u001b[43m,\u001b[49m\n\u001b[1;32m   5575\u001b[0m \u001b[43m        \u001b[49m\u001b[43merrors\u001b[49m\u001b[38;5;241;43m=\u001b[39;49m\u001b[43merrors\u001b[49m\u001b[43m,\u001b[49m\n\u001b[1;32m   5576\u001b[0m \u001b[43m    \u001b[49m\u001b[43m)\u001b[49m\n",
      "File \u001b[0;32m~/Desktop/ml projects/current/Transformer/venv/lib/python3.10/site-packages/pandas/core/generic.py:4785\u001b[0m, in \u001b[0;36mNDFrame.drop\u001b[0;34m(self, labels, axis, index, columns, level, inplace, errors)\u001b[0m\n\u001b[1;32m   4783\u001b[0m \u001b[38;5;28;01mfor\u001b[39;00m axis, labels \u001b[38;5;129;01min\u001b[39;00m axes\u001b[38;5;241m.\u001b[39mitems():\n\u001b[1;32m   4784\u001b[0m     \u001b[38;5;28;01mif\u001b[39;00m labels \u001b[38;5;129;01mis\u001b[39;00m \u001b[38;5;129;01mnot\u001b[39;00m \u001b[38;5;28;01mNone\u001b[39;00m:\n\u001b[0;32m-> 4785\u001b[0m         obj \u001b[38;5;241m=\u001b[39m \u001b[43mobj\u001b[49m\u001b[38;5;241;43m.\u001b[39;49m\u001b[43m_drop_axis\u001b[49m\u001b[43m(\u001b[49m\u001b[43mlabels\u001b[49m\u001b[43m,\u001b[49m\u001b[43m \u001b[49m\u001b[43maxis\u001b[49m\u001b[43m,\u001b[49m\u001b[43m \u001b[49m\u001b[43mlevel\u001b[49m\u001b[38;5;241;43m=\u001b[39;49m\u001b[43mlevel\u001b[49m\u001b[43m,\u001b[49m\u001b[43m \u001b[49m\u001b[43merrors\u001b[49m\u001b[38;5;241;43m=\u001b[39;49m\u001b[43merrors\u001b[49m\u001b[43m)\u001b[49m\n\u001b[1;32m   4787\u001b[0m \u001b[38;5;28;01mif\u001b[39;00m inplace:\n\u001b[1;32m   4788\u001b[0m     \u001b[38;5;28mself\u001b[39m\u001b[38;5;241m.\u001b[39m_update_inplace(obj)\n",
      "File \u001b[0;32m~/Desktop/ml projects/current/Transformer/venv/lib/python3.10/site-packages/pandas/core/generic.py:4827\u001b[0m, in \u001b[0;36mNDFrame._drop_axis\u001b[0;34m(self, labels, axis, level, errors, only_slice)\u001b[0m\n\u001b[1;32m   4825\u001b[0m         new_axis \u001b[38;5;241m=\u001b[39m axis\u001b[38;5;241m.\u001b[39mdrop(labels, level\u001b[38;5;241m=\u001b[39mlevel, errors\u001b[38;5;241m=\u001b[39merrors)\n\u001b[1;32m   4826\u001b[0m     \u001b[38;5;28;01melse\u001b[39;00m:\n\u001b[0;32m-> 4827\u001b[0m         new_axis \u001b[38;5;241m=\u001b[39m \u001b[43maxis\u001b[49m\u001b[38;5;241;43m.\u001b[39;49m\u001b[43mdrop\u001b[49m\u001b[43m(\u001b[49m\u001b[43mlabels\u001b[49m\u001b[43m,\u001b[49m\u001b[43m \u001b[49m\u001b[43merrors\u001b[49m\u001b[38;5;241;43m=\u001b[39;49m\u001b[43merrors\u001b[49m\u001b[43m)\u001b[49m\n\u001b[1;32m   4828\u001b[0m     indexer \u001b[38;5;241m=\u001b[39m axis\u001b[38;5;241m.\u001b[39mget_indexer(new_axis)\n\u001b[1;32m   4830\u001b[0m \u001b[38;5;66;03m# Case for non-unique axis\u001b[39;00m\n\u001b[1;32m   4831\u001b[0m \u001b[38;5;28;01melse\u001b[39;00m:\n",
      "File \u001b[0;32m~/Desktop/ml projects/current/Transformer/venv/lib/python3.10/site-packages/pandas/core/indexes/base.py:7070\u001b[0m, in \u001b[0;36mIndex.drop\u001b[0;34m(self, labels, errors)\u001b[0m\n\u001b[1;32m   7068\u001b[0m \u001b[38;5;28;01mif\u001b[39;00m mask\u001b[38;5;241m.\u001b[39many():\n\u001b[1;32m   7069\u001b[0m     \u001b[38;5;28;01mif\u001b[39;00m errors \u001b[38;5;241m!=\u001b[39m \u001b[38;5;124m\"\u001b[39m\u001b[38;5;124mignore\u001b[39m\u001b[38;5;124m\"\u001b[39m:\n\u001b[0;32m-> 7070\u001b[0m         \u001b[38;5;28;01mraise\u001b[39;00m \u001b[38;5;167;01mKeyError\u001b[39;00m(\u001b[38;5;124mf\u001b[39m\u001b[38;5;124m\"\u001b[39m\u001b[38;5;132;01m{\u001b[39;00mlabels[mask]\u001b[38;5;241m.\u001b[39mtolist()\u001b[38;5;132;01m}\u001b[39;00m\u001b[38;5;124m not found in axis\u001b[39m\u001b[38;5;124m\"\u001b[39m)\n\u001b[1;32m   7071\u001b[0m     indexer \u001b[38;5;241m=\u001b[39m indexer[\u001b[38;5;241m~\u001b[39mmask]\n\u001b[1;32m   7072\u001b[0m \u001b[38;5;28;01mreturn\u001b[39;00m \u001b[38;5;28mself\u001b[39m\u001b[38;5;241m.\u001b[39mdelete(indexer)\n",
      "\u001b[0;31mKeyError\u001b[0m: \"['day_of_week'] not found in axis\""
     ]
    }
   ],
   "source": [
    "df = df.drop(\"day_of_week\",axis=1)"
   ]
  },
  {
   "cell_type": "code",
   "execution_count": 21,
   "metadata": {},
   "outputs": [
    {
     "name": "stdout",
     "output_type": "stream",
     "text": [
      "(4048, 52)\n",
      "(4048,)\n"
     ]
    }
   ],
   "source": [
    "X= df.drop(df.columns[-1],axis=1)\n",
    "print(X.shape)\n",
    "y= df[df.columns[-1]]\n",
    "print(y.shape)"
   ]
  },
  {
   "cell_type": "code",
   "execution_count": 22,
   "metadata": {},
   "outputs": [
    {
     "name": "stderr",
     "output_type": "stream",
     "text": [
      "/Users/bijubiju/Desktop/ml projects/current/Transformer/venv/lib/python3.10/site-packages/sklearn/linear_model/_logistic.py:469: ConvergenceWarning: lbfgs failed to converge (status=1):\n",
      "STOP: TOTAL NO. of ITERATIONS REACHED LIMIT.\n",
      "\n",
      "Increase the number of iterations (max_iter) or scale the data as shown in:\n",
      "    https://scikit-learn.org/stable/modules/preprocessing.html\n",
      "Please also refer to the documentation for alternative solver options:\n",
      "    https://scikit-learn.org/stable/modules/linear_model.html#logistic-regression\n",
      "  n_iter_i = _check_optimize_result(\n"
     ]
    },
    {
     "name": "stdout",
     "output_type": "stream",
     "text": [
      "Fold 1:\n",
      "Logistic Regression: Train Accuracy = 0.1961, Validation Accuracy = 0.1404\n",
      "Random Forest: Train Accuracy = 1.0000, Validation Accuracy = 0.2670\n",
      "KNN: Train Accuracy = 0.1892, Validation Accuracy = 0.0293\n",
      "XGBoost: Train Accuracy = 1.0000, Validation Accuracy = 1.0000\n"
     ]
    },
    {
     "name": "stderr",
     "output_type": "stream",
     "text": [
      "/Users/bijubiju/Desktop/ml projects/current/Transformer/venv/lib/python3.10/site-packages/sklearn/linear_model/_logistic.py:469: ConvergenceWarning: lbfgs failed to converge (status=1):\n",
      "STOP: TOTAL NO. of ITERATIONS REACHED LIMIT.\n",
      "\n",
      "Increase the number of iterations (max_iter) or scale the data as shown in:\n",
      "    https://scikit-learn.org/stable/modules/preprocessing.html\n",
      "Please also refer to the documentation for alternative solver options:\n",
      "    https://scikit-learn.org/stable/modules/linear_model.html#logistic-regression\n",
      "  n_iter_i = _check_optimize_result(\n"
     ]
    },
    {
     "name": "stdout",
     "output_type": "stream",
     "text": [
      "Fold 2:\n",
      "Logistic Regression: Train Accuracy = 0.1907, Validation Accuracy = 0.1512\n",
      "Random Forest: Train Accuracy = 1.0000, Validation Accuracy = 0.2793\n",
      "KNN: Train Accuracy = 0.1919, Validation Accuracy = 0.0247\n",
      "XGBoost: Train Accuracy = 1.0000, Validation Accuracy = 1.0000\n"
     ]
    },
    {
     "name": "stderr",
     "output_type": "stream",
     "text": [
      "/Users/bijubiju/Desktop/ml projects/current/Transformer/venv/lib/python3.10/site-packages/sklearn/linear_model/_logistic.py:469: ConvergenceWarning: lbfgs failed to converge (status=1):\n",
      "STOP: TOTAL NO. of ITERATIONS REACHED LIMIT.\n",
      "\n",
      "Increase the number of iterations (max_iter) or scale the data as shown in:\n",
      "    https://scikit-learn.org/stable/modules/preprocessing.html\n",
      "Please also refer to the documentation for alternative solver options:\n",
      "    https://scikit-learn.org/stable/modules/linear_model.html#logistic-regression\n",
      "  n_iter_i = _check_optimize_result(\n"
     ]
    },
    {
     "name": "stdout",
     "output_type": "stream",
     "text": [
      "Fold 3:\n",
      "Logistic Regression: Train Accuracy = 0.1927, Validation Accuracy = 0.1790\n",
      "Random Forest: Train Accuracy = 1.0000, Validation Accuracy = 0.3117\n",
      "KNN: Train Accuracy = 0.1900, Validation Accuracy = 0.0293\n",
      "XGBoost: Train Accuracy = 1.0000, Validation Accuracy = 1.0000\n"
     ]
    },
    {
     "name": "stderr",
     "output_type": "stream",
     "text": [
      "/Users/bijubiju/Desktop/ml projects/current/Transformer/venv/lib/python3.10/site-packages/sklearn/linear_model/_logistic.py:469: ConvergenceWarning: lbfgs failed to converge (status=1):\n",
      "STOP: TOTAL NO. of ITERATIONS REACHED LIMIT.\n",
      "\n",
      "Increase the number of iterations (max_iter) or scale the data as shown in:\n",
      "    https://scikit-learn.org/stable/modules/preprocessing.html\n",
      "Please also refer to the documentation for alternative solver options:\n",
      "    https://scikit-learn.org/stable/modules/linear_model.html#logistic-regression\n",
      "  n_iter_i = _check_optimize_result(\n"
     ]
    },
    {
     "name": "stdout",
     "output_type": "stream",
     "text": [
      "Fold 4:\n",
      "Logistic Regression: Train Accuracy = 0.1710, Validation Accuracy = 0.2056\n",
      "Random Forest: Train Accuracy = 1.0000, Validation Accuracy = 0.2643\n",
      "KNN: Train Accuracy = 0.1949, Validation Accuracy = 0.0155\n",
      "XGBoost: Train Accuracy = 1.0000, Validation Accuracy = 1.0000\n"
     ]
    },
    {
     "name": "stderr",
     "output_type": "stream",
     "text": [
      "/Users/bijubiju/Desktop/ml projects/current/Transformer/venv/lib/python3.10/site-packages/sklearn/linear_model/_logistic.py:469: ConvergenceWarning: lbfgs failed to converge (status=1):\n",
      "STOP: TOTAL NO. of ITERATIONS REACHED LIMIT.\n",
      "\n",
      "Increase the number of iterations (max_iter) or scale the data as shown in:\n",
      "    https://scikit-learn.org/stable/modules/preprocessing.html\n",
      "Please also refer to the documentation for alternative solver options:\n",
      "    https://scikit-learn.org/stable/modules/linear_model.html#logistic-regression\n",
      "  n_iter_i = _check_optimize_result(\n"
     ]
    },
    {
     "name": "stdout",
     "output_type": "stream",
     "text": [
      "Fold 5:\n",
      "Logistic Regression: Train Accuracy = 0.1880, Validation Accuracy = 0.1793\n",
      "Random Forest: Train Accuracy = 1.0000, Validation Accuracy = 0.2875\n",
      "KNN: Train Accuracy = 0.1887, Validation Accuracy = 0.0216\n",
      "XGBoost: Train Accuracy = 1.0000, Validation Accuracy = 1.0000\n",
      "\n",
      "Mean Scores:\n",
      "Logistic Regression: Mean Train Accuracy = 0.1877, Mean Validation Accuracy = 0.1711\n",
      "Random Forest: Mean Train Accuracy = 1.0000, Mean Validation Accuracy = 0.2820\n",
      "KNN: Mean Train Accuracy = 0.1909, Mean Validation Accuracy = 0.0241\n",
      "XGBoost: Mean Train Accuracy = 1.0000, Mean Validation Accuracy = 1.0000\n"
     ]
    },
    {
     "name": "stderr",
     "output_type": "stream",
     "text": [
      "/Users/bijubiju/Desktop/ml projects/current/Transformer/venv/lib/python3.10/site-packages/sklearn/linear_model/_logistic.py:469: ConvergenceWarning: lbfgs failed to converge (status=1):\n",
      "STOP: TOTAL NO. of ITERATIONS REACHED LIMIT.\n",
      "\n",
      "Increase the number of iterations (max_iter) or scale the data as shown in:\n",
      "    https://scikit-learn.org/stable/modules/preprocessing.html\n",
      "Please also refer to the documentation for alternative solver options:\n",
      "    https://scikit-learn.org/stable/modules/linear_model.html#logistic-regression\n",
      "  n_iter_i = _check_optimize_result(\n"
     ]
    },
    {
     "name": "stdout",
     "output_type": "stream",
     "text": [
      "\n",
      "Test Accuracies:\n",
      "Logistic Regression: 0.1531\n",
      "Random Forest: 0.3272\n",
      "KNN: 0.0111\n",
      "XGBoost: 1.0000\n"
     ]
    }
   ],
   "source": [
    "\n",
    "\n",
    "\n",
    "# Split the data into train and test sets\n",
    "X_train, X_test, y_train, y_test = train_test_split(X, y, test_size=0.2, random_state=1)\n",
    "\n",
    "# Set up the KFold cross-validation\n",
    "kfold = KFold(n_splits=5, shuffle=True, random_state=1)\n",
    "\n",
    "# Lists to store the scores from each fold\n",
    "train_scores_lr = []\n",
    "val_scores_lr = []\n",
    "train_scores_rf = []\n",
    "val_scores_rf = []\n",
    "train_scores_knn = []\n",
    "val_scores_knn = []\n",
    "train_scores_xgb = []\n",
    "val_scores_xgb = []\n",
    "\n",
    "# Iterate over the folds\n",
    "for train_idx, val_idx in kfold.split(X_train, y_train):\n",
    "    # Split the training data into train and validation sets\n",
    "    X_train_fold, X_val_fold = X_train.iloc[train_idx], X_train.iloc[val_idx]\n",
    "    y_train_fold, y_val_fold = y_train.iloc[train_idx], y_train.iloc[val_idx]\n",
    "\n",
    "    # Create the models\n",
    "    lr_model = LogisticRegression(random_state=1)\n",
    "    rf_model = RandomForestClassifier(random_state=1)\n",
    "    knn_model = KNeighborsClassifier()\n",
    "    xgb_model = xgb.XGBClassifier(objective='binary:logistic', random_state=1)\n",
    "\n",
    "    # Train the models on the training fold\n",
    "    lr_model.fit(X_train_fold, y_train_fold)\n",
    "    rf_model.fit(X_train_fold, y_train_fold)\n",
    "    knn_model.fit(X_train_fold, y_train_fold)\n",
    "    xgb_model.fit(X_train_fold, y_train_fold)\n",
    "\n",
    "    # Evaluate the models on the validation fold\n",
    "    train_score_lr = accuracy_score(y_train_fold, lr_model.predict(X_train_fold))\n",
    "    val_score_lr = accuracy_score(y_val_fold, lr_model.predict(X_val_fold))\n",
    "\n",
    "    train_score_rf = accuracy_score(y_train_fold, rf_model.predict(X_train_fold))\n",
    "    val_score_rf = accuracy_score(y_val_fold, rf_model.predict(X_val_fold))\n",
    "\n",
    "    train_score_knn = accuracy_score(y_train_fold, knn_model.predict(X_train_fold))\n",
    "    val_score_knn = accuracy_score(y_val_fold, knn_model.predict(X_val_fold))\n",
    "\n",
    "    train_score_xgb = accuracy_score(y_train_fold, xgb_model.predict(X_train_fold))\n",
    "    val_score_xgb = accuracy_score(y_val_fold, xgb_model.predict(X_val_fold))\n",
    "\n",
    "    # Append the scores to the lists\n",
    "    train_scores_lr.append(train_score_lr)\n",
    "    val_scores_lr.append(val_score_lr)\n",
    "    train_scores_rf.append(train_score_rf)\n",
    "    val_scores_rf.append(val_score_rf)\n",
    "    train_scores_knn.append(train_score_knn)\n",
    "    val_scores_knn.append(val_score_knn)\n",
    "    train_scores_xgb.append(train_score_xgb)\n",
    "    val_scores_xgb.append(val_score_xgb)\n",
    "\n",
    "    print(f'Fold {len(train_scores_lr)}:')\n",
    "    print(f'Logistic Regression: Train Accuracy = {train_score_lr:.4f}, Validation Accuracy = {val_score_lr:.4f}')\n",
    "    print(f'Random Forest: Train Accuracy = {train_score_rf:.4f}, Validation Accuracy = {val_score_rf:.4f}')\n",
    "    print(f'KNN: Train Accuracy = {train_score_knn:.4f}, Validation Accuracy = {val_score_knn:.4f}')\n",
    "    print(f'XGBoost: Train Accuracy = {train_score_xgb:.4f}, Validation Accuracy = {val_score_xgb:.4f}')\n",
    "\n",
    "# Print the mean scores\n",
    "print('\\nMean Scores:')\n",
    "print(f'Logistic Regression: Mean Train Accuracy = {sum(train_scores_lr) / len(train_scores_lr):.4f}, Mean Validation Accuracy = {sum(val_scores_lr) / len(val_scores_lr):.4f}')\n",
    "print(f'Random Forest: Mean Train Accuracy = {sum(train_scores_rf) / len(train_scores_rf):.4f}, Mean Validation Accuracy = {sum(val_scores_rf) / len(val_scores_rf):.4f}')\n",
    "print(f'KNN: Mean Train Accuracy = {sum(train_scores_knn) / len(train_scores_knn):.4f}, Mean Validation Accuracy = {sum(val_scores_knn) / len(val_scores_knn):.4f}')\n",
    "print(f'XGBoost: Mean Train Accuracy = {sum(train_scores_xgb) / len(train_scores_xgb):.4f}, Mean Validation Accuracy = {sum(val_scores_xgb) / len(val_scores_xgb):.4f}')\n",
    "\n",
    "# Train the final models on the entire training set\n",
    "final_lr_model = LogisticRegression(random_state=42)\n",
    "final_rf_model = RandomForestClassifier(random_state=42)\n",
    "final_knn_model = KNeighborsClassifier()\n",
    "final_xgb_model = xgb.XGBClassifier(objective='binary:logistic', random_state=42)\n",
    "\n",
    "final_lr_model.fit(X_train, y_train)\n",
    "final_rf_model.fit(X_train, y_train)\n",
    "final_knn_model.fit(X_train, y_train)\n",
    "final_xgb_model.fit(X_train, y_train)\n",
    "\n",
    "# Evaluate the final models on the test set\n",
    "test_accuracy_lr = accuracy_score(y_test, final_lr_model.predict(X_test))\n",
    "test_accuracy_rf = accuracy_score(y_test, final_rf_model.predict(X_test))\n",
    "test_accuracy_knn = accuracy_score(y_test, final_knn_model.predict(X_test))\n",
    "test_accuracy_xgb = accuracy_score(y_test, final_xgb_model.predict(X_test))\n",
    "\n",
    "print('\\nTest Accuracies:')\n",
    "print(f'Logistic Regression: {test_accuracy_lr:.4f}')\n",
    "print(f'Random Forest: {test_accuracy_rf:.4f}')\n",
    "print(f'KNN: {test_accuracy_knn:.4f}')\n",
    "print(f'XGBoost: {test_accuracy_xgb:.4f}')"
   ]
  },
  {
   "cell_type": "code",
   "execution_count": 23,
   "metadata": {},
   "outputs": [
    {
     "name": "stdout",
     "output_type": "stream",
     "text": [
      "Top 10 Important Features:\n",
      "         feature  importance\n",
      "50  day_of_month      3691.0\n",
      "51         month       699.0\n",
      "0     Unnamed: 0        78.0\n",
      "14   interval_14        36.0\n",
      "21   interval_21        31.0\n",
      "27   interval_27        29.0\n",
      "29   interval_29        29.0\n",
      "15   interval_15        28.0\n",
      "1     interval_1        28.0\n",
      "36   interval_36        28.0\n"
     ]
    },
    {
     "data": {
      "text/plain": [
       "<Figure size 1000x600 with 0 Axes>"
      ]
     },
     "metadata": {},
     "output_type": "display_data"
    },
    {
     "data": {
      "image/png": "[encoded data removed]",
      "text/plain": [
       "<Figure size 640x480 with 1 Axes>"
      ]
     },
     "metadata": {},
     "output_type": "display_data"
    }
   ],
   "source": [
    "# Get the feature importances\n",
    "feature_importances = final_xgb_model.get_booster().get_score(importance_type='weight')\n",
    "\n",
    "# Convert the feature importances to a DataFrame\n",
    "feature_importances = pd.DataFrame(feature_importances.items(), columns=['feature', 'importance'])\n",
    "\n",
    "# Sort the DataFrame by importance in descending order\n",
    "feature_importances = feature_importances.sort_values('importance', ascending=False)\n",
    "\n",
    "# Print the top 10 most important features\n",
    "print(\"Top 10 Important Features:\")\n",
    "print(feature_importances.head(10))\n",
    "\n",
    "# Plot the top 20 most important features\n",
    "plt.figure(figsize=(10, 6))\n",
    "feature_importances.head(20).plot.bar(x='feature', y='importance')\n",
    "plt.title('Feature Importances')\n",
    "plt.xlabel('Feature')\n",
    "plt.ylabel('Importance')\n",
    "plt.xticks(rotation=90)\n",
    "plt.tight_layout()\n",
    "plt.show()"
   ]
  },
  {
   "cell_type": "code",
   "execution_count": 61,
   "metadata": {},
   "outputs": [
    {
     "ename": "KeyError",
     "evalue": "\"['Unnamed: 0'] not found in axis\"",
     "output_type": "error",
     "traceback": [
      "\u001b[0;31m---------------------------------------------------------------------------\u001b[0m",
      "\u001b[0;31mKeyError\u001b[0m                                  Traceback (most recent call last)",
      "Cell \u001b[0;32mIn[61], line 1\u001b[0m\n\u001b[0;32m----> 1\u001b[0m df\u001b[38;5;241m=\u001b[39m\u001b[43mdf\u001b[49m\u001b[38;5;241;43m.\u001b[39;49m\u001b[43mdrop\u001b[49m\u001b[43m(\u001b[49m\u001b[38;5;124;43m\"\u001b[39;49m\u001b[38;5;124;43mUnnamed: 0\u001b[39;49m\u001b[38;5;124;43m\"\u001b[39;49m\u001b[43m,\u001b[49m\u001b[43maxis\u001b[49m\u001b[38;5;241;43m=\u001b[39;49m\u001b[38;5;241;43m1\u001b[39;49m\u001b[43m)\u001b[49m\n\u001b[1;32m      2\u001b[0m data_grouped \u001b[38;5;241m=\u001b[39m df\u001b[38;5;241m.\u001b[39mgroupby(\u001b[38;5;124m'\u001b[39m\u001b[38;5;124mid\u001b[39m\u001b[38;5;124m'\u001b[39m)\n\u001b[1;32m      3\u001b[0m data_grouped\u001b[38;5;241m.\u001b[39mhead()\n",
      "File \u001b[0;32m~/Desktop/ml projects/current/Transformer/venv/lib/python3.10/site-packages/pandas/core/frame.py:5568\u001b[0m, in \u001b[0;36mDataFrame.drop\u001b[0;34m(self, labels, axis, index, columns, level, inplace, errors)\u001b[0m\n\u001b[1;32m   5420\u001b[0m \u001b[38;5;28;01mdef\u001b[39;00m \u001b[38;5;21mdrop\u001b[39m(\n\u001b[1;32m   5421\u001b[0m     \u001b[38;5;28mself\u001b[39m,\n\u001b[1;32m   5422\u001b[0m     labels: IndexLabel \u001b[38;5;241m|\u001b[39m \u001b[38;5;28;01mNone\u001b[39;00m \u001b[38;5;241m=\u001b[39m \u001b[38;5;28;01mNone\u001b[39;00m,\n\u001b[0;32m   (...)\u001b[0m\n\u001b[1;32m   5429\u001b[0m     errors: IgnoreRaise \u001b[38;5;241m=\u001b[39m \u001b[38;5;124m\"\u001b[39m\u001b[38;5;124mraise\u001b[39m\u001b[38;5;124m\"\u001b[39m,\n\u001b[1;32m   5430\u001b[0m ) \u001b[38;5;241m-\u001b[39m\u001b[38;5;241m>\u001b[39m DataFrame \u001b[38;5;241m|\u001b[39m \u001b[38;5;28;01mNone\u001b[39;00m:\n\u001b[1;32m   5431\u001b[0m \u001b[38;5;250m    \u001b[39m\u001b[38;5;124;03m\"\"\"\u001b[39;00m\n\u001b[1;32m   5432\u001b[0m \u001b[38;5;124;03m    Drop specified labels from rows or columns.\u001b[39;00m\n\u001b[1;32m   5433\u001b[0m \n\u001b[0;32m   (...)\u001b[0m\n\u001b[1;32m   5566\u001b[0m \u001b[38;5;124;03m            weight  1.0     0.8\u001b[39;00m\n\u001b[1;32m   5567\u001b[0m \u001b[38;5;124;03m    \"\"\"\u001b[39;00m\n\u001b[0;32m-> 5568\u001b[0m     \u001b[38;5;28;01mreturn\u001b[39;00m \u001b[38;5;28;43msuper\u001b[39;49m\u001b[43m(\u001b[49m\u001b[43m)\u001b[49m\u001b[38;5;241;43m.\u001b[39;49m\u001b[43mdrop\u001b[49m\u001b[43m(\u001b[49m\n\u001b[1;32m   5569\u001b[0m \u001b[43m        \u001b[49m\u001b[43mlabels\u001b[49m\u001b[38;5;241;43m=\u001b[39;49m\u001b[43mlabels\u001b[49m\u001b[43m,\u001b[49m\n\u001b[1;32m   5570\u001b[0m \u001b[43m        \u001b[49m\u001b[43maxis\u001b[49m\u001b[38;5;241;43m=\u001b[39;49m\u001b[43maxis\u001b[49m\u001b[43m,\u001b[49m\n\u001b[1;32m   5571\u001b[0m \u001b[43m        \u001b[49m\u001b[43mindex\u001b[49m\u001b[38;5;241;43m=\u001b[39;49m\u001b[43mindex\u001b[49m\u001b[43m,\u001b[49m\n\u001b[1;32m   5572\u001b[0m \u001b[43m        \u001b[49m\u001b[43mcolumns\u001b[49m\u001b[38;5;241;43m=\u001b[39;49m\u001b[43mcolumns\u001b[49m\u001b[43m,\u001b[49m\n\u001b[1;32m   5573\u001b[0m \u001b[43m        \u001b[49m\u001b[43mlevel\u001b[49m\u001b[38;5;241;43m=\u001b[39;49m\u001b[43mlevel\u001b[49m\u001b[43m,\u001b[49m\n\u001b[1;32m   5574\u001b[0m \u001b[43m        \u001b[49m\u001b[43minplace\u001b[49m\u001b[38;5;241;43m=\u001b[39;49m\u001b[43minplace\u001b[49m\u001b[43m,\u001b[49m\n\u001b[1;32m   5575\u001b[0m \u001b[43m        \u001b[49m\u001b[43merrors\u001b[49m\u001b[38;5;241;43m=\u001b[39;49m\u001b[43merrors\u001b[49m\u001b[43m,\u001b[49m\n\u001b[1;32m   5576\u001b[0m \u001b[43m    \u001b[49m\u001b[43m)\u001b[49m\n",
      "File \u001b[0;32m~/Desktop/ml projects/current/Transformer/venv/lib/python3.10/site-packages/pandas/core/generic.py:4785\u001b[0m, in \u001b[0;36mNDFrame.drop\u001b[0;34m(self, labels, axis, index, columns, level, inplace, errors)\u001b[0m\n\u001b[1;32m   4783\u001b[0m \u001b[38;5;28;01mfor\u001b[39;00m axis, labels \u001b[38;5;129;01min\u001b[39;00m axes\u001b[38;5;241m.\u001b[39mitems():\n\u001b[1;32m   4784\u001b[0m     \u001b[38;5;28;01mif\u001b[39;00m labels \u001b[38;5;129;01mis\u001b[39;00m \u001b[38;5;129;01mnot\u001b[39;00m \u001b[38;5;28;01mNone\u001b[39;00m:\n\u001b[0;32m-> 4785\u001b[0m         obj \u001b[38;5;241m=\u001b[39m \u001b[43mobj\u001b[49m\u001b[38;5;241;43m.\u001b[39;49m\u001b[43m_drop_axis\u001b[49m\u001b[43m(\u001b[49m\u001b[43mlabels\u001b[49m\u001b[43m,\u001b[49m\u001b[43m \u001b[49m\u001b[43maxis\u001b[49m\u001b[43m,\u001b[49m\u001b[43m \u001b[49m\u001b[43mlevel\u001b[49m\u001b[38;5;241;43m=\u001b[39;49m\u001b[43mlevel\u001b[49m\u001b[43m,\u001b[49m\u001b[43m \u001b[49m\u001b[43merrors\u001b[49m\u001b[38;5;241;43m=\u001b[39;49m\u001b[43merrors\u001b[49m\u001b[43m)\u001b[49m\n\u001b[1;32m   4787\u001b[0m \u001b[38;5;28;01mif\u001b[39;00m inplace:\n\u001b[1;32m   4788\u001b[0m     \u001b[38;5;28mself\u001b[39m\u001b[38;5;241m.\u001b[39m_update_inplace(obj)\n",
      "File \u001b[0;32m~/Desktop/ml projects/current/Transformer/venv/lib/python3.10/site-packages/pandas/core/generic.py:4827\u001b[0m, in \u001b[0;36mNDFrame._drop_axis\u001b[0;34m(self, labels, axis, level, errors, only_slice)\u001b[0m\n\u001b[1;32m   4825\u001b[0m         new_axis \u001b[38;5;241m=\u001b[39m axis\u001b[38;5;241m.\u001b[39mdrop(labels, level\u001b[38;5;241m=\u001b[39mlevel, errors\u001b[38;5;241m=\u001b[39merrors)\n\u001b[1;32m   4826\u001b[0m     \u001b[38;5;28;01melse\u001b[39;00m:\n\u001b[0;32m-> 4827\u001b[0m         new_axis \u001b[38;5;241m=\u001b[39m \u001b[43maxis\u001b[49m\u001b[38;5;241;43m.\u001b[39;49m\u001b[43mdrop\u001b[49m\u001b[43m(\u001b[49m\u001b[43mlabels\u001b[49m\u001b[43m,\u001b[49m\u001b[43m \u001b[49m\u001b[43merrors\u001b[49m\u001b[38;5;241;43m=\u001b[39;49m\u001b[43merrors\u001b[49m\u001b[43m)\u001b[49m\n\u001b[1;32m   4828\u001b[0m     indexer \u001b[38;5;241m=\u001b[39m axis\u001b[38;5;241m.\u001b[39mget_indexer(new_axis)\n\u001b[1;32m   4830\u001b[0m \u001b[38;5;66;03m# Case for non-unique axis\u001b[39;00m\n\u001b[1;32m   4831\u001b[0m \u001b[38;5;28;01melse\u001b[39;00m:\n",
      "File \u001b[0;32m~/Desktop/ml projects/current/Transformer/venv/lib/python3.10/site-packages/pandas/core/indexes/base.py:7070\u001b[0m, in \u001b[0;36mIndex.drop\u001b[0;34m(self, labels, errors)\u001b[0m\n\u001b[1;32m   7068\u001b[0m \u001b[38;5;28;01mif\u001b[39;00m mask\u001b[38;5;241m.\u001b[39many():\n\u001b[1;32m   7069\u001b[0m     \u001b[38;5;28;01mif\u001b[39;00m errors \u001b[38;5;241m!=\u001b[39m \u001b[38;5;124m\"\u001b[39m\u001b[38;5;124mignore\u001b[39m\u001b[38;5;124m\"\u001b[39m:\n\u001b[0;32m-> 7070\u001b[0m         \u001b[38;5;28;01mraise\u001b[39;00m \u001b[38;5;167;01mKeyError\u001b[39;00m(\u001b[38;5;124mf\u001b[39m\u001b[38;5;124m\"\u001b[39m\u001b[38;5;132;01m{\u001b[39;00mlabels[mask]\u001b[38;5;241m.\u001b[39mtolist()\u001b[38;5;132;01m}\u001b[39;00m\u001b[38;5;124m not found in axis\u001b[39m\u001b[38;5;124m\"\u001b[39m)\n\u001b[1;32m   7071\u001b[0m     indexer \u001b[38;5;241m=\u001b[39m indexer[\u001b[38;5;241m~\u001b[39mmask]\n\u001b[1;32m   7072\u001b[0m \u001b[38;5;28;01mreturn\u001b[39;00m \u001b[38;5;28mself\u001b[39m\u001b[38;5;241m.\u001b[39mdelete(indexer)\n",
      "\u001b[0;31mKeyError\u001b[0m: \"['Unnamed: 0'] not found in axis\""
     ]
    }
   ],
   "source": [
    "df=df.drop(\"Unnamed: 0\",axis=1)\n",
    "data_grouped = df.groupby('id')\n",
    "data_grouped.head()\n"
   ]
  },
  {
   "cell_type": "code",
   "execution_count": 63,
   "metadata": {},
   "outputs": [],
   "source": [
    "df.to_csv(\"../data/EV_data_date_fixed\")"
   ]
  },
  {
   "cell_type": "code",
   "execution_count": 1,
   "metadata": {},
   "outputs": [
    {
     "ename": "NameError",
     "evalue": "name 'df' is not defined",
     "output_type": "error",
     "traceback": [
      "\u001b[0;31m---------------------------------------------------------------------------\u001b[0m",
      "\u001b[0;31mNameError\u001b[0m                                 Traceback (most recent call last)",
      "Cell \u001b[0;32mIn[1], line 1\u001b[0m\n\u001b[0;32m----> 1\u001b[0m \u001b[43mdf\u001b[49m\u001b[38;5;241m.\u001b[39mdtypes\n",
      "\u001b[0;31mNameError\u001b[0m: name 'df' is not defined"
     ]
    }
   ],
   "source": []
  },
  {
   "cell_type": "code",
   "execution_count": 54,
   "metadata": {},
   "outputs": [
    {
     "data": {
      "text/plain": [
       "array([ 1,  2, 25, 26, 27, 28, 29, 30, 31, 32, 33, 34, 35, 36, 37, 38, 39,\n",
       "       40, 41, 42, 43, 24, 23, 22, 11,  3,  4,  5,  6,  7,  8,  9, 10, 12,\n",
       "       21, 13, 14, 15, 16, 17, 18, 19, 20, 44, 50, 86, 59, 78, 49, 72, 54,\n",
       "       75, 53, 66, 79, 70, 60, 74, 62, 52, 45, 77, 63, 68, 47, 64, 69, 84,\n",
       "       48, 82, 80, 55, 67, 81, 71, 58, 51, 65, 76, 61, 85, 56, 88, 46, 87,\n",
       "       83, 73, 57])"
      ]
     },
     "execution_count": 54,
     "metadata": {},
     "output_type": "execute_result"
    }
   ],
   "source": [
    "unique_ids = df['id'].unique()\n",
    "unique_ids"
   ]
  },
  {
   "cell_type": "code",
   "execution_count": 55,
   "metadata": {},
   "outputs": [],
   "source": [
    "from sklearn.model_selection import train_test_split\n",
    "train_ids, test_ids = train_test_split(unique_ids, test_size=0.2, random_state=42)"
   ]
  },
  {
   "cell_type": "code",
   "execution_count": 56,
   "metadata": {},
   "outputs": [],
   "source": [
    "train_data = df.loc[df['id'].isin(train_ids)]\n",
    "test_data = df.loc[df['id'].isin(test_ids)]"
   ]
  },
  {
   "cell_type": "code",
   "execution_count": 60,
   "metadata": {},
   "outputs": [
    {
     "data": {
      "text/html": [
       "<div>\n",
       "<style scoped>\n",
       "    .dataframe tbody tr th:only-of-type {\n",
       "        vertical-align: middle;\n",
       "    }\n",
       "\n",
       "    .dataframe tbody tr th {\n",
       "        vertical-align: top;\n",
       "    }\n",
       "\n",
       "    .dataframe thead th {\n",
       "        text-align: right;\n",
       "    }\n",
       "</style>\n",
       "<table border=\"1\" class=\"dataframe\">\n",
       "  <thead>\n",
       "    <tr style=\"text-align: right;\">\n",
       "      <th></th>\n",
       "      <th>interval_1</th>\n",
       "      <th>interval_2</th>\n",
       "      <th>interval_3</th>\n",
       "      <th>interval_4</th>\n",
       "      <th>interval_5</th>\n",
       "      <th>interval_6</th>\n",
       "      <th>interval_7</th>\n",
       "      <th>interval_8</th>\n",
       "      <th>interval_9</th>\n",
       "      <th>interval_10</th>\n",
       "      <th>...</th>\n",
       "      <th>interval_42</th>\n",
       "      <th>interval_43</th>\n",
       "      <th>interval_44</th>\n",
       "      <th>interval_45</th>\n",
       "      <th>interval_46</th>\n",
       "      <th>interval_47</th>\n",
       "      <th>interval_48</th>\n",
       "      <th>day_of_week_num</th>\n",
       "      <th>day_of_month</th>\n",
       "      <th>month</th>\n",
       "    </tr>\n",
       "  </thead>\n",
       "  <tbody>\n",
       "    <tr>\n",
       "      <th>46</th>\n",
       "      <td>0.1562</td>\n",
       "      <td>0.1562</td>\n",
       "      <td>0.1500</td>\n",
       "      <td>0.1437</td>\n",
       "      <td>0.1187</td>\n",
       "      <td>0.1125</td>\n",
       "      <td>0.1312</td>\n",
       "      <td>0.1625</td>\n",
       "      <td>0.1875</td>\n",
       "      <td>0.1000</td>\n",
       "      <td>...</td>\n",
       "      <td>0.2125</td>\n",
       "      <td>0.2125</td>\n",
       "      <td>0.1812</td>\n",
       "      <td>0.1812</td>\n",
       "      <td>1.2437</td>\n",
       "      <td>1.3500</td>\n",
       "      <td>1.7812</td>\n",
       "      <td>0</td>\n",
       "      <td>1</td>\n",
       "      <td>3</td>\n",
       "    </tr>\n",
       "    <tr>\n",
       "      <th>47</th>\n",
       "      <td>1.3437</td>\n",
       "      <td>1.3687</td>\n",
       "      <td>1.3937</td>\n",
       "      <td>1.3625</td>\n",
       "      <td>1.3187</td>\n",
       "      <td>1.5437</td>\n",
       "      <td>0.2250</td>\n",
       "      <td>0.1187</td>\n",
       "      <td>0.1500</td>\n",
       "      <td>0.1375</td>\n",
       "      <td>...</td>\n",
       "      <td>0.1437</td>\n",
       "      <td>0.1437</td>\n",
       "      <td>0.1562</td>\n",
       "      <td>0.0875</td>\n",
       "      <td>0.8875</td>\n",
       "      <td>1.6687</td>\n",
       "      <td>1.3875</td>\n",
       "      <td>1</td>\n",
       "      <td>2</td>\n",
       "      <td>3</td>\n",
       "    </tr>\n",
       "    <tr>\n",
       "      <th>48</th>\n",
       "      <td>1.7312</td>\n",
       "      <td>1.3500</td>\n",
       "      <td>1.3062</td>\n",
       "      <td>1.3125</td>\n",
       "      <td>0.2125</td>\n",
       "      <td>0.0687</td>\n",
       "      <td>0.1000</td>\n",
       "      <td>0.0875</td>\n",
       "      <td>0.0562</td>\n",
       "      <td>0.0500</td>\n",
       "      <td>...</td>\n",
       "      <td>0.1187</td>\n",
       "      <td>0.1562</td>\n",
       "      <td>0.1375</td>\n",
       "      <td>0.1562</td>\n",
       "      <td>0.9750</td>\n",
       "      <td>1.3000</td>\n",
       "      <td>1.5625</td>\n",
       "      <td>2</td>\n",
       "      <td>3</td>\n",
       "      <td>3</td>\n",
       "    </tr>\n",
       "    <tr>\n",
       "      <th>49</th>\n",
       "      <td>1.2937</td>\n",
       "      <td>1.6875</td>\n",
       "      <td>1.3000</td>\n",
       "      <td>1.3187</td>\n",
       "      <td>1.3250</td>\n",
       "      <td>1.2875</td>\n",
       "      <td>0.5937</td>\n",
       "      <td>0.0625</td>\n",
       "      <td>0.0750</td>\n",
       "      <td>0.0812</td>\n",
       "      <td>...</td>\n",
       "      <td>0.1312</td>\n",
       "      <td>0.1187</td>\n",
       "      <td>0.2312</td>\n",
       "      <td>0.0937</td>\n",
       "      <td>0.9062</td>\n",
       "      <td>1.3250</td>\n",
       "      <td>1.6437</td>\n",
       "      <td>3</td>\n",
       "      <td>4</td>\n",
       "      <td>3</td>\n",
       "    </tr>\n",
       "    <tr>\n",
       "      <th>50</th>\n",
       "      <td>1.3375</td>\n",
       "      <td>1.8000</td>\n",
       "      <td>1.3125</td>\n",
       "      <td>1.2875</td>\n",
       "      <td>1.3062</td>\n",
       "      <td>1.3000</td>\n",
       "      <td>0.3937</td>\n",
       "      <td>0.0812</td>\n",
       "      <td>0.1000</td>\n",
       "      <td>0.0500</td>\n",
       "      <td>...</td>\n",
       "      <td>0.0750</td>\n",
       "      <td>0.0625</td>\n",
       "      <td>0.0437</td>\n",
       "      <td>0.0875</td>\n",
       "      <td>0.1000</td>\n",
       "      <td>0.0750</td>\n",
       "      <td>0.1000</td>\n",
       "      <td>4</td>\n",
       "      <td>5</td>\n",
       "      <td>3</td>\n",
       "    </tr>\n",
       "  </tbody>\n",
       "</table>\n",
       "<p>5 rows × 51 columns</p>\n",
       "</div>"
      ],
      "text/plain": [
       "    interval_1  interval_2  interval_3  interval_4  interval_5  interval_6  \\\n",
       "46      0.1562      0.1562      0.1500      0.1437      0.1187      0.1125   \n",
       "47      1.3437      1.3687      1.3937      1.3625      1.3187      1.5437   \n",
       "48      1.7312      1.3500      1.3062      1.3125      0.2125      0.0687   \n",
       "49      1.2937      1.6875      1.3000      1.3187      1.3250      1.2875   \n",
       "50      1.3375      1.8000      1.3125      1.2875      1.3062      1.3000   \n",
       "\n",
       "    interval_7  interval_8  interval_9  interval_10  ...  interval_42  \\\n",
       "46      0.1312      0.1625      0.1875       0.1000  ...       0.2125   \n",
       "47      0.2250      0.1187      0.1500       0.1375  ...       0.1437   \n",
       "48      0.1000      0.0875      0.0562       0.0500  ...       0.1187   \n",
       "49      0.5937      0.0625      0.0750       0.0812  ...       0.1312   \n",
       "50      0.3937      0.0812      0.1000       0.0500  ...       0.0750   \n",
       "\n",
       "    interval_43  interval_44  interval_45  interval_46  interval_47  \\\n",
       "46       0.2125       0.1812       0.1812       1.2437       1.3500   \n",
       "47       0.1437       0.1562       0.0875       0.8875       1.6687   \n",
       "48       0.1562       0.1375       0.1562       0.9750       1.3000   \n",
       "49       0.1187       0.2312       0.0937       0.9062       1.3250   \n",
       "50       0.0625       0.0437       0.0875       0.1000       0.0750   \n",
       "\n",
       "    interval_48  day_of_week_num  day_of_month  month  \n",
       "46       1.7812                0             1      3  \n",
       "47       1.3875                1             2      3  \n",
       "48       1.5625                2             3      3  \n",
       "49       1.6437                3             4      3  \n",
       "50       0.1000                4             5      3  \n",
       "\n",
       "[5 rows x 51 columns]"
      ]
     },
     "execution_count": 60,
     "metadata": {},
     "output_type": "execute_result"
    }
   ],
   "source": [
    "X_train = train_data.drop([\"id\",\"label\"],axis=1)\n",
    "y_train = train_data[\"label\"]\n",
    "X_test = test_data.drop([\"id\",\"label\"],axis=1)\n",
    "y_test = test_data[\"label\"]\n",
    "X_train.head()"
   ]
  },
  {
   "cell_type": "code",
   "execution_count": 58,
   "metadata": {},
   "outputs": [
    {
     "name": "stderr",
     "output_type": "stream",
     "text": [
      "/Users/bijubiju/Desktop/ml projects/current/Transformer/venv/lib/python3.10/site-packages/sklearn/linear_model/_logistic.py:469: ConvergenceWarning: lbfgs failed to converge (status=1):\n",
      "STOP: TOTAL NO. of ITERATIONS REACHED LIMIT.\n",
      "\n",
      "Increase the number of iterations (max_iter) or scale the data as shown in:\n",
      "    https://scikit-learn.org/stable/modules/preprocessing.html\n",
      "Please also refer to the documentation for alternative solver options:\n",
      "    https://scikit-learn.org/stable/modules/linear_model.html#logistic-regression\n",
      "  n_iter_i = _check_optimize_result(\n"
     ]
    },
    {
     "name": "stdout",
     "output_type": "stream",
     "text": [
      "Fold 1:\n",
      "Logistic Regression: Train Accuracy = 0.7100, Validation Accuracy = 0.7298\n",
      "Random Forest: Train Accuracy = 1.0000, Validation Accuracy = 0.9255\n",
      "KNN: Train Accuracy = 0.8436, Validation Accuracy = 0.7640\n",
      "XGBoost: Train Accuracy = 1.0000, Validation Accuracy = 0.9441\n"
     ]
    },
    {
     "name": "stderr",
     "output_type": "stream",
     "text": [
      "/Users/bijubiju/Desktop/ml projects/current/Transformer/venv/lib/python3.10/site-packages/sklearn/linear_model/_logistic.py:469: ConvergenceWarning: lbfgs failed to converge (status=1):\n",
      "STOP: TOTAL NO. of ITERATIONS REACHED LIMIT.\n",
      "\n",
      "Increase the number of iterations (max_iter) or scale the data as shown in:\n",
      "    https://scikit-learn.org/stable/modules/preprocessing.html\n",
      "Please also refer to the documentation for alternative solver options:\n",
      "    https://scikit-learn.org/stable/modules/linear_model.html#logistic-regression\n",
      "  n_iter_i = _check_optimize_result(\n"
     ]
    },
    {
     "name": "stdout",
     "output_type": "stream",
     "text": [
      "Fold 2:\n",
      "Logistic Regression: Train Accuracy = 0.7205, Validation Accuracy = 0.6894\n",
      "Random Forest: Train Accuracy = 1.0000, Validation Accuracy = 0.8913\n",
      "KNN: Train Accuracy = 0.8502, Validation Accuracy = 0.7640\n",
      "XGBoost: Train Accuracy = 1.0000, Validation Accuracy = 0.9208\n"
     ]
    },
    {
     "name": "stderr",
     "output_type": "stream",
     "text": [
      "/Users/bijubiju/Desktop/ml projects/current/Transformer/venv/lib/python3.10/site-packages/sklearn/linear_model/_logistic.py:469: ConvergenceWarning: lbfgs failed to converge (status=1):\n",
      "STOP: TOTAL NO. of ITERATIONS REACHED LIMIT.\n",
      "\n",
      "Increase the number of iterations (max_iter) or scale the data as shown in:\n",
      "    https://scikit-learn.org/stable/modules/preprocessing.html\n",
      "Please also refer to the documentation for alternative solver options:\n",
      "    https://scikit-learn.org/stable/modules/linear_model.html#logistic-regression\n",
      "  n_iter_i = _check_optimize_result(\n"
     ]
    },
    {
     "name": "stdout",
     "output_type": "stream",
     "text": [
      "Fold 3:\n",
      "Logistic Regression: Train Accuracy = 0.7189, Validation Accuracy = 0.7050\n",
      "Random Forest: Train Accuracy = 1.0000, Validation Accuracy = 0.9037\n",
      "KNN: Train Accuracy = 0.8498, Validation Accuracy = 0.7780\n",
      "XGBoost: Train Accuracy = 1.0000, Validation Accuracy = 0.9255\n"
     ]
    },
    {
     "name": "stderr",
     "output_type": "stream",
     "text": [
      "/Users/bijubiju/Desktop/ml projects/current/Transformer/venv/lib/python3.10/site-packages/sklearn/linear_model/_logistic.py:469: ConvergenceWarning: lbfgs failed to converge (status=1):\n",
      "STOP: TOTAL NO. of ITERATIONS REACHED LIMIT.\n",
      "\n",
      "Increase the number of iterations (max_iter) or scale the data as shown in:\n",
      "    https://scikit-learn.org/stable/modules/preprocessing.html\n",
      "Please also refer to the documentation for alternative solver options:\n",
      "    https://scikit-learn.org/stable/modules/linear_model.html#logistic-regression\n",
      "  n_iter_i = _check_optimize_result(\n"
     ]
    },
    {
     "name": "stdout",
     "output_type": "stream",
     "text": [
      "Fold 4:\n",
      "Logistic Regression: Train Accuracy = 0.7275, Validation Accuracy = 0.6957\n",
      "Random Forest: Train Accuracy = 1.0000, Validation Accuracy = 0.9255\n",
      "KNN: Train Accuracy = 0.8358, Validation Accuracy = 0.7748\n",
      "XGBoost: Train Accuracy = 1.0000, Validation Accuracy = 0.9457\n"
     ]
    },
    {
     "name": "stderr",
     "output_type": "stream",
     "text": [
      "/Users/bijubiju/Desktop/ml projects/current/Transformer/venv/lib/python3.10/site-packages/sklearn/linear_model/_logistic.py:469: ConvergenceWarning: lbfgs failed to converge (status=1):\n",
      "STOP: TOTAL NO. of ITERATIONS REACHED LIMIT.\n",
      "\n",
      "Increase the number of iterations (max_iter) or scale the data as shown in:\n",
      "    https://scikit-learn.org/stable/modules/preprocessing.html\n",
      "Please also refer to the documentation for alternative solver options:\n",
      "    https://scikit-learn.org/stable/modules/linear_model.html#logistic-regression\n",
      "  n_iter_i = _check_optimize_result(\n"
     ]
    },
    {
     "name": "stdout",
     "output_type": "stream",
     "text": [
      "Fold 5:\n",
      "Logistic Regression: Train Accuracy = 0.7147, Validation Accuracy = 0.6863\n",
      "Random Forest: Train Accuracy = 1.0000, Validation Accuracy = 0.9053\n",
      "KNN: Train Accuracy = 0.8525, Validation Accuracy = 0.7562\n",
      "XGBoost: Train Accuracy = 1.0000, Validation Accuracy = 0.9146\n",
      "\n",
      "Mean Scores:\n",
      "Logistic Regression: Mean Train Accuracy = 0.7183, Mean Validation Accuracy = 0.7012\n",
      "Random Forest: Mean Train Accuracy = 1.0000, Mean Validation Accuracy = 0.9102\n",
      "KNN: Mean Train Accuracy = 0.8464, Mean Validation Accuracy = 0.7674\n",
      "XGBoost: Mean Train Accuracy = 1.0000, Mean Validation Accuracy = 0.9301\n"
     ]
    },
    {
     "name": "stderr",
     "output_type": "stream",
     "text": [
      "/Users/bijubiju/Desktop/ml projects/current/Transformer/venv/lib/python3.10/site-packages/sklearn/linear_model/_logistic.py:469: ConvergenceWarning: lbfgs failed to converge (status=1):\n",
      "STOP: TOTAL NO. of ITERATIONS REACHED LIMIT.\n",
      "\n",
      "Increase the number of iterations (max_iter) or scale the data as shown in:\n",
      "    https://scikit-learn.org/stable/modules/preprocessing.html\n",
      "Please also refer to the documentation for alternative solver options:\n",
      "    https://scikit-learn.org/stable/modules/linear_model.html#logistic-regression\n",
      "  n_iter_i = _check_optimize_result(\n"
     ]
    },
    {
     "name": "stdout",
     "output_type": "stream",
     "text": [
      "\n",
      "Test Accuracies:\n",
      "Logistic Regression: 0.6449\n",
      "Random Forest: 0.8273\n",
      "KNN: 0.8068\n",
      "XGBoost: 0.8309\n"
     ]
    }
   ],
   "source": [
    "# Set up the KFold cross-validation\n",
    "kfold = KFold(n_splits=5, shuffle=True, random_state=42)\n",
    "\n",
    "# Lists to store the scores from each fold\n",
    "train_scores_lr = []\n",
    "val_scores_lr = []\n",
    "train_scores_rf = []\n",
    "val_scores_rf = []\n",
    "train_scores_knn = []\n",
    "val_scores_knn = []\n",
    "train_scores_xgb = []\n",
    "val_scores_xgb = []\n",
    "\n",
    "# Iterate over the folds\n",
    "for train_idx, val_idx in kfold.split(X_train, y_train):\n",
    "    # Split the training data into train and validation sets\n",
    "    X_train_fold, X_val_fold = X_train.iloc[train_idx], X_train.iloc[val_idx]\n",
    "    y_train_fold, y_val_fold = y_train.iloc[train_idx], y_train.iloc[val_idx]\n",
    "\n",
    "    # Create the models\n",
    "    lr_model = LogisticRegression(random_state=42)\n",
    "    rf_model = RandomForestClassifier(random_state=42)\n",
    "    knn_model = KNeighborsClassifier()\n",
    "    xgb_model = xgb.XGBClassifier(objective='binary:logistic', random_state=42)\n",
    "\n",
    "    # Train the models on the training fold\n",
    "    lr_model.fit(X_train_fold, y_train_fold)\n",
    "    rf_model.fit(X_train_fold, y_train_fold)\n",
    "    knn_model.fit(X_train_fold, y_train_fold)\n",
    "    xgb_model.fit(X_train_fold, y_train_fold)\n",
    "\n",
    "    # Evaluate the models on the validation fold\n",
    "    train_score_lr = accuracy_score(y_train_fold, lr_model.predict(X_train_fold))\n",
    "    val_score_lr = accuracy_score(y_val_fold, lr_model.predict(X_val_fold))\n",
    "\n",
    "    train_score_rf = accuracy_score(y_train_fold, rf_model.predict(X_train_fold))\n",
    "    val_score_rf = accuracy_score(y_val_fold, rf_model.predict(X_val_fold))\n",
    "\n",
    "    train_score_knn = accuracy_score(y_train_fold, knn_model.predict(X_train_fold))\n",
    "    val_score_knn = accuracy_score(y_val_fold, knn_model.predict(X_val_fold))\n",
    "\n",
    "    train_score_xgb = accuracy_score(y_train_fold, xgb_model.predict(X_train_fold))\n",
    "    val_score_xgb = accuracy_score(y_val_fold, xgb_model.predict(X_val_fold))\n",
    "\n",
    "    # Append the scores to the lists\n",
    "    train_scores_lr.append(train_score_lr)\n",
    "    val_scores_lr.append(val_score_lr)\n",
    "    train_scores_rf.append(train_score_rf)\n",
    "    val_scores_rf.append(val_score_rf)\n",
    "    train_scores_knn.append(train_score_knn)\n",
    "    val_scores_knn.append(val_score_knn)\n",
    "    train_scores_xgb.append(train_score_xgb)\n",
    "    val_scores_xgb.append(val_score_xgb)\n",
    "\n",
    "    print(f'Fold {len(train_scores_lr)}:')\n",
    "    print(f'Logistic Regression: Train Accuracy = {train_score_lr:.4f}, Validation Accuracy = {val_score_lr:.4f}')\n",
    "    print(f'Random Forest: Train Accuracy = {train_score_rf:.4f}, Validation Accuracy = {val_score_rf:.4f}')\n",
    "    print(f'KNN: Train Accuracy = {train_score_knn:.4f}, Validation Accuracy = {val_score_knn:.4f}')\n",
    "    print(f'XGBoost: Train Accuracy = {train_score_xgb:.4f}, Validation Accuracy = {val_score_xgb:.4f}')\n",
    "    # Print the mean scores\n",
    "print('\\nMean Scores:')\n",
    "print(f'Logistic Regression: Mean Train Accuracy = {sum(train_scores_lr) / len(train_scores_lr):.4f}, Mean Validation Accuracy = {sum(val_scores_lr) / len(val_scores_lr):.4f}')\n",
    "print(f'Random Forest: Mean Train Accuracy = {sum(train_scores_rf) / len(train_scores_rf):.4f}, Mean Validation Accuracy = {sum(val_scores_rf) / len(val_scores_rf):.4f}')\n",
    "print(f'KNN: Mean Train Accuracy = {sum(train_scores_knn) / len(train_scores_knn):.4f}, Mean Validation Accuracy = {sum(val_scores_knn) / len(val_scores_knn):.4f}')\n",
    "print(f'XGBoost: Mean Train Accuracy = {sum(train_scores_xgb) / len(train_scores_xgb):.4f}, Mean Validation Accuracy = {sum(val_scores_xgb) / len(val_scores_xgb):.4f}')\n",
    "\n",
    "# Train the final models on the entire training set\n",
    "final_lr_model = LogisticRegression(random_state=42)\n",
    "final_rf_model = RandomForestClassifier(random_state=42)\n",
    "final_knn_model = KNeighborsClassifier()\n",
    "final_xgb_model = xgb.XGBClassifier(objective='binary:logistic', random_state=42)\n",
    "\n",
    "final_lr_model.fit(X_train, y_train)\n",
    "final_rf_model.fit(X_train, y_train)\n",
    "final_knn_model.fit(X_train, y_train)\n",
    "final_xgb_model.fit(X_train, y_train)\n",
    "\n",
    "# Evaluate the final models on the test set\n",
    "test_accuracy_lr = accuracy_score(y_test, final_lr_model.predict(X_test))\n",
    "test_accuracy_rf = accuracy_score(y_test, final_rf_model.predict(X_test))\n",
    "test_accuracy_knn = accuracy_score(y_test, final_knn_model.predict(X_test))\n",
    "test_accuracy_xgb = accuracy_score(y_test, final_xgb_model.predict(X_test))\n",
    "\n",
    "print('\\nTest Accuracies:')\n",
    "print(f'Logistic Regression: {test_accuracy_lr:.4f}')\n",
    "print(f'Random Forest: {test_accuracy_rf:.4f}')\n",
    "print(f'KNN: {test_accuracy_knn:.4f}')\n",
    "print(f'XGBoost: {test_accuracy_xgb:.4f}')"
   ]
  },
  {
   "cell_type": "code",
   "execution_count": 59,
   "metadata": {},
   "outputs": [
    {
     "name": "stdout",
     "output_type": "stream",
     "text": [
      "Top 10 Important Features:\n",
      "        feature  importance\n",
      "11  interval_12        66.0\n",
      "13  interval_14        64.0\n",
      "14  interval_15        57.0\n",
      "32  interval_33        55.0\n",
      "10  interval_11        55.0\n",
      "8    interval_9        53.0\n",
      "44  interval_45        52.0\n",
      "34  interval_35        52.0\n",
      "0    interval_1        50.0\n",
      "47  interval_48        50.0\n"
     ]
    },
    {
     "data": {
      "text/plain": [
       "<Figure size 1000x600 with 0 Axes>"
      ]
     },
     "metadata": {},
     "output_type": "display_data"
    },
    {
     "data": {
      "image/png": "[encoded data removed]",
      "text/plain": [
       "<Figure size 640x480 with 1 Axes>"
      ]
     },
     "metadata": {},
     "output_type": "display_data"
    }
   ],
   "source": [
    "# Get the feature importances\n",
    "feature_importances = final_xgb_model.get_booster().get_score(importance_type='weight')\n",
    "\n",
    "# Convert the feature importances to a DataFrame\n",
    "feature_importances = pd.DataFrame(feature_importances.items(), columns=['feature', 'importance'])\n",
    "\n",
    "# Sort the DataFrame by importance in descending order\n",
    "feature_importances = feature_importances.sort_values('importance', ascending=False)\n",
    "\n",
    "# Print the top 10 most important features\n",
    "print(\"Top 10 Important Features:\")\n",
    "print(feature_importances.head(10))\n",
    "\n",
    "# Plot the top 20 most important features\n",
    "plt.figure(figsize=(10, 6))\n",
    "feature_importances.head(20).plot.bar(x='feature', y='importance')\n",
    "plt.title('Feature Importances')\n",
    "plt.xlabel('Feature')\n",
    "plt.ylabel('Importance')\n",
    "plt.xticks(rotation=90)\n",
    "plt.tight_layout()\n",
    "plt.show()"
   ]
  }
 ],
 "metadata": {
  "kernelspec": {
   "display_name": "venv",
   "language": "python",
   "name": "python3"
  },
  "language_info": {
   "codemirror_mode": {
    "name": "ipython",
    "version": 3
   },
   "file_extension": ".py",
   "mimetype": "text/x-python",
   "name": "python",
   "nbconvert_exporter": "python",
   "pygments_lexer": "ipython3",
   "version": "3.10.14"
  }
 },
 "nbformat": 4,
 "nbformat_minor": 2
}
